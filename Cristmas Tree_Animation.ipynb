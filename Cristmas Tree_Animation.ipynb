{
 "cells": [
  {
   "cell_type": "code",
   "execution_count": null,
   "id": "5b3636e2",
   "metadata": {},
   "outputs": [
    {
     "name": "stderr",
     "output_type": "stream",
     "text": [
      "MovieWriter imagemagick unavailable; using Pillow instead.\n"
     ]
    }
   ],
   "source": [
    "import math\n",
    "import matplotlib.pyplot as plt\n",
    "from mpl_toolkits.mplot3d import Axes3D\n",
    "from matplotlib.animation import FuncAnimation\n",
    "import numpy as np\n",
    "\n",
    "fig = plt.figure(figsize=(10, 10))\n",
    "ax = fig.add_subplot(projection='3d')\n",
    "\n",
    "# 초기 좌표를 미리 생성\n",
    "z_snow = np.random.randint(-70, 300, 100)\n",
    "x_snow = np.random.randint(-700, 700, 100)\n",
    "y_snow = np.random.randint(-500, 500, 100)\n",
    "\n",
    "# ❄을 미리 그림\n",
    "snowflake = '❄'\n",
    "for i in range(len(x_snow)):\n",
    "    ax.text(x_snow[i], y_snow[i], z_snow[i], snowflake, color='skyblue', fontsize=np.random.randint(10, 15))\n",
    "\n",
    "def update(frame):\n",
    "    ax.clear()\n",
    "\n",
    "    # Make Green Decorate\n",
    "    for s in reversed(range(0, frame, 25)):\n",
    "        z = s\n",
    "        x = [math.cos(i)*(frame - s) for i in range(1, 360, 5)]\n",
    "        y = [math.sin(i)*(frame - s) for i in range(1, 360, 5)]\n",
    "        ax.scatter(x, y, z, c='green', alpha=0.5)\n",
    "\n",
    "        # Make Red Decorate\n",
    "        if s % 50 == 0:\n",
    "            z = s\n",
    "            x = [math.cos(i)*(frame - s) for i in range(1, 360, 5)]\n",
    "            y = [math.sin(i)*(frame - s) for i in range(1, 360, 5)]\n",
    "            ax.scatter(x, y, z, c='red', alpha=0.5)\n",
    "\n",
    "    # Star!!!! (마지막에 나오게)\n",
    "    if frame == 300:\n",
    "        z_star = frame\n",
    "        ax.scatter(0, 0, z_star, s=250, c='orange', marker='*')\n",
    "\n",
    "        # ❄ Merry Christmas ❄\n",
    "        if frame > 200:\n",
    "            ax.text(0, 0, -150, \"❄ Merry Christmas ❄\", color='red', fontsize=20, ha='center')\n",
    "\n",
    "            # Draw additional snowflakes\n",
    "            additional_z_snow = np.random.randint(-70, 300, 100)\n",
    "            additional_x_snow = np.random.randint(-700, 700, 100)\n",
    "            additional_y_snow = np.random.randint(-500, 500, 100)\n",
    "\n",
    "            for i in range(len(additional_x_snow)):\n",
    "                ax.text(additional_x_snow[i], additional_y_snow[i], additional_z_snow[i], snowflake,\n",
    "                        color='skyblue', fontsize=np.random.randint(10, 15))\n",
    "\n",
    "    plt.xlim(-500, 500)\n",
    "    plt.ylim(-500, 500)\n",
    "    plt.axis('off')\n",
    "\n",
    "# 애니메이션 생성 및 실행\n",
    "ani = FuncAnimation(fig, update, frames=np.arange(0, 301, 5), interval=130, repeat=False)\n",
    "ani.save('christmastree_snowflake5.gif', writer='imagemagick')\n",
    "plt.show()\n"
   ]
  },
  {
   "cell_type": "code",
   "execution_count": 41,
   "id": "70a2daa8",
   "metadata": {},
   "outputs": [
    {
     "name": "stdout",
     "output_type": "stream",
     "text": [
      "Name: PyQt5\n",
      "Version: 5.15.10\n",
      "Summary: Python bindings for the Qt cross platform application toolkit\n",
      "Home-page: https://www.riverbankcomputing.com/software/pyqt/\n",
      "Author: Riverbank Computing Limited\n",
      "Author-email: info@riverbankcomputing.com\n",
      "License: GPL v3\n",
      "Location: c:\\anaconda3\\lib\\site-packages\n",
      "Requires: PyQt5-Qt5, PyQt5-sip\n",
      "Required-by: spyder\n"
     ]
    }
   ],
   "source": [
    "!pip show PyQt5"
   ]
  },
  {
   "cell_type": "code",
   "execution_count": 85,
   "id": "4b905f98",
   "metadata": {},
   "outputs": [
    {
     "name": "stdout",
     "output_type": "stream",
     "text": [
      "Collecting ffmpeg-python\n",
      "  Downloading ffmpeg_python-0.2.0-py3-none-any.whl (25 kB)\n",
      "Requirement already satisfied: future in c:\\anaconda3\\lib\\site-packages (from ffmpeg-python) (0.18.2)\n",
      "Installing collected packages: ffmpeg-python\n",
      "Successfully installed ffmpeg-python-0.2.0\n"
     ]
    }
   ],
   "source": [
    "!pip install ffmpeg-python"
   ]
  },
  {
   "cell_type": "code",
   "execution_count": null,
   "id": "c544a2f2",
   "metadata": {},
   "outputs": [],
   "source": []
  }
 ],
 "metadata": {
  "kernelspec": {
   "display_name": "Python 3 (ipykernel)",
   "language": "python",
   "name": "python3"
  },
  "language_info": {
   "codemirror_mode": {
    "name": "ipython",
    "version": 3
   },
   "file_extension": ".py",
   "mimetype": "text/x-python",
   "name": "python",
   "nbconvert_exporter": "python",
   "pygments_lexer": "ipython3",
   "version": "3.11.7"
  }
 },
 "nbformat": 4,
 "nbformat_minor": 5
}
